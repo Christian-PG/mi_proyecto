{
 "cells": [
  {
   "cell_type": "code",
   "execution_count": 2,
   "id": "6f1fa197-c419-45d8-9f7a-8a2fe4940b7c",
   "metadata": {},
   "outputs": [
    {
     "name": "stdout",
     "output_type": "stream",
     "text": [
      "Hola mundo\n"
     ]
    }
   ],
   "source": [
    "print (\"Hola mundo\");"
   ]
  },
  {
   "cell_type": "code",
   "execution_count": null,
   "id": "bada926d-29b0-4c68-bec2-f31dd7b7548a",
   "metadata": {},
   "outputs": [],
   "source": []
  }
 ],
 "metadata": {
  "kernelspec": {
   "display_name": "Python [conda env:base] *",
   "language": "python",
   "name": "conda-base-py"
  },
  "language_info": {
   "codemirror_mode": {
    "name": "ipython",
    "version": 3
   },
   "file_extension": ".py",
   "mimetype": "text/x-python",
   "name": "python",
   "nbconvert_exporter": "python",
   "pygments_lexer": "ipython3",
   "version": "3.12.7"
  }
 },
 "nbformat": 4,
 "nbformat_minor": 5
}
